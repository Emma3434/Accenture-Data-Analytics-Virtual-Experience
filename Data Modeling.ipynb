{
 "cells": [
  {
   "cell_type": "code",
   "execution_count": 13,
   "metadata": {},
   "outputs": [],
   "source": [
    "# Import packages\n",
    "# Data analysis\n",
    "import pandas as pd\n",
    "import numpy as np\n",
    "# Visualization\n",
    "import matplotlib.pyplot as plt\n",
    "plt.style.use('seaborn-pastel')"
   ]
  },
  {
   "cell_type": "markdown",
   "metadata": {},
   "source": [
    "# Task Definition\n",
    "1. Requirements Gathering\n",
    "    Merge of sample data set tables. An analysis of their content categories that highlights the top 5 categories with the largest aggregate popularity. \n",
    "2. Data Cleaning\n",
    "    Make sure data is clean and ready for analysis.\n",
    "    1. Removing columns that have a high number of missing values\n",
    "    2. Removing rows which are errorneous\n",
    "    3. Changing the data type of some values within a column\n",
    "    4. Removing columns which are not relevant to the task\n",
    "3. Data Modelling.\n",
    "    Merge a final dataset and export in csv format.\n",
    "# Data Cleaning and Modeling"
   ]
  },
  {
   "cell_type": "code",
   "execution_count": 14,
   "metadata": {},
   "outputs": [],
   "source": [
    "# Data import\n",
    "df_content = pd.read_csv(\"Content (1).csv\", index_col=0)\n",
    "df_location = pd.read_csv(\"Location (1).csv\", index_col=0)\n",
    "df_profile = pd.read_csv(\"Profile (1).csv\", index_col=0)\n",
    "df_reactions = pd.read_csv(\"Reactions (1).csv\", index_col=0)\n",
    "df_reactiontypes = pd.read_csv(\"ReactionTypes (1).csv\", index_col=0)\n",
    "df_user = pd.read_csv(\"User (1).csv\", index_col=0)\n",
    "df_session = pd.read_csv(\"Session (1).csv\", index_col=0)"
   ]
  },
  {
   "cell_type": "code",
   "execution_count": 15,
   "metadata": {},
   "outputs": [
    {
     "name": "stdout",
     "output_type": "stream",
     "text": [
      "\n",
      "Content: \n",
      " URL    199\n",
      "dtype: int64\n",
      "\n",
      "Location: \n",
      " Series([], dtype: int64)\n",
      "\n",
      "Profile: \n",
      " Series([], dtype: int64)\n",
      "\n",
      "Reactions: \n",
      " User ID    3019\n",
      "Type        980\n",
      "dtype: int64\n",
      "\n",
      "Reaction types: \n",
      " Series([], dtype: int64)\n",
      "\n",
      "User: \n",
      " Series([], dtype: int64)\n",
      "\n",
      "Session: \n",
      " Series([], dtype: int64)\n"
     ]
    }
   ],
   "source": [
    "# Inspect empty values in the tables\n",
    "print(\"\\nContent: \\n\", df_content.isnull().sum()[df_content.isnull().sum() != 0])\n",
    "print(\"\\nLocation: \\n\", df_location.isnull().sum()[df_location.isnull().sum() != 0])\n",
    "print(\"\\nProfile: \\n\", df_profile.isnull().sum()[df_profile.isnull().sum() != 0])\n",
    "print(\"\\nReactions: \\n\", df_reactions.isnull().sum()[df_reactions.isnull().sum() != 0])\n",
    "print(\"\\nReaction types: \\n\", df_reactiontypes.isnull().sum()[df_reactiontypes.isnull().sum() != 0])\n",
    "print(\"\\nUser: \\n\", df_user.isnull().sum()[df_user.isnull().sum() != 0])\n",
    "print(\"\\nSession: \\n\", df_session.isnull().sum()[df_session.isnull().sum() != 0])"
   ]
  },
  {
   "cell_type": "markdown",
   "metadata": {},
   "source": [
    "Conclusion: \n",
    "- URL from content table should be deleted because it has too many empty values and is irrelevant to the task\n",
    "- All entries in reaction table that does not have a User ID should be deleted because cannot merge to the final datamodel\n",
    "- Other tables are free from empty value"
   ]
  },
  {
   "cell_type": "code",
   "execution_count": 16,
   "metadata": {},
   "outputs": [],
   "source": [
    "# Remove empty columns\n",
    "df_content.drop(columns=\"URL\", inplace=True)\n",
    "\n",
    "# Remove empty rows\n",
    "df_reactions.dropna(inplace=True)"
   ]
  },
  {
   "cell_type": "markdown",
   "metadata": {},
   "source": [
    "Data model to use:\n",
    "- The requirement is to do an analysis of their content categories that highlights the top 5 categories with the largest aggregate popularity. Thus we need to use content, reaction, and reaction types to aggregate into the final results.\n",
    "- Among the tables, URL is not needed."
   ]
  },
  {
   "cell_type": "code",
   "execution_count": 17,
   "metadata": {},
   "outputs": [
    {
     "data": {
      "text/plain": [
       "technology         73\n",
       "animals            72\n",
       "travel             69\n",
       "science            68\n",
       "culture            67\n",
       "fitness            66\n",
       "food               64\n",
       "soccer             64\n",
       "healthy eating     62\n",
       "cooking            61\n",
       "tennis             59\n",
       "education          59\n",
       "studying           58\n",
       "dogs               58\n",
       "public speaking    50\n",
       "veganism           50\n",
       "Name: Category, dtype: int64"
      ]
     },
     "execution_count": 17,
     "metadata": {},
     "output_type": "execute_result"
    }
   ],
   "source": [
    "# Clean the category column\n",
    "df_content['Category'] = df_content['Category'].str.replace(\"\\\"\",\"\")\n",
    "df_content['Category'] = df_content['Category'].str.lower()\n",
    "df_content['Category'].value_counts()"
   ]
  },
  {
   "cell_type": "code",
   "execution_count": 26,
   "metadata": {},
   "outputs": [
    {
     "data": {
      "text/html": [
       "<div>\n",
       "<style scoped>\n",
       "    .dataframe tbody tr th:only-of-type {\n",
       "        vertical-align: middle;\n",
       "    }\n",
       "\n",
       "    .dataframe tbody tr th {\n",
       "        vertical-align: top;\n",
       "    }\n",
       "\n",
       "    .dataframe thead th {\n",
       "        text-align: right;\n",
       "    }\n",
       "</style>\n",
       "<table border=\"1\" class=\"dataframe\">\n",
       "  <thead>\n",
       "    <tr style=\"text-align: right;\">\n",
       "      <th></th>\n",
       "      <th>Content ID</th>\n",
       "      <th>User ID</th>\n",
       "      <th>Reaction Type</th>\n",
       "      <th>Datetime</th>\n",
       "      <th>Content Type</th>\n",
       "      <th>Category</th>\n",
       "      <th>Type</th>\n",
       "      <th>Sentiment</th>\n",
       "      <th>Score</th>\n",
       "    </tr>\n",
       "  </thead>\n",
       "  <tbody>\n",
       "    <tr>\n",
       "      <th>0</th>\n",
       "      <td>97522e57-d9ab-4bd6-97bf-c24d952602d2</td>\n",
       "      <td>5d454588-283d-459d-915d-c48a2cb4c27f</td>\n",
       "      <td>disgust</td>\n",
       "      <td>2020-11-07 09:43:50</td>\n",
       "      <td>photo</td>\n",
       "      <td>studying</td>\n",
       "      <td>disgust</td>\n",
       "      <td>negative</td>\n",
       "      <td>0</td>\n",
       "    </tr>\n",
       "    <tr>\n",
       "      <th>1</th>\n",
       "      <td>97522e57-d9ab-4bd6-97bf-c24d952602d2</td>\n",
       "      <td>92b87fa5-f271-43e0-af66-84fac21052e6</td>\n",
       "      <td>dislike</td>\n",
       "      <td>2021-06-17 12:22:51</td>\n",
       "      <td>photo</td>\n",
       "      <td>studying</td>\n",
       "      <td>dislike</td>\n",
       "      <td>negative</td>\n",
       "      <td>10</td>\n",
       "    </tr>\n",
       "    <tr>\n",
       "      <th>2</th>\n",
       "      <td>97522e57-d9ab-4bd6-97bf-c24d952602d2</td>\n",
       "      <td>163daa38-8b77-48c9-9af6-37a6c1447ac2</td>\n",
       "      <td>scared</td>\n",
       "      <td>2021-04-18 05:13:58</td>\n",
       "      <td>photo</td>\n",
       "      <td>studying</td>\n",
       "      <td>scared</td>\n",
       "      <td>negative</td>\n",
       "      <td>15</td>\n",
       "    </tr>\n",
       "    <tr>\n",
       "      <th>3</th>\n",
       "      <td>97522e57-d9ab-4bd6-97bf-c24d952602d2</td>\n",
       "      <td>34e8add9-0206-47fd-a501-037b994650a2</td>\n",
       "      <td>disgust</td>\n",
       "      <td>2021-01-06 19:13:01</td>\n",
       "      <td>photo</td>\n",
       "      <td>studying</td>\n",
       "      <td>disgust</td>\n",
       "      <td>negative</td>\n",
       "      <td>0</td>\n",
       "    </tr>\n",
       "    <tr>\n",
       "      <th>4</th>\n",
       "      <td>97522e57-d9ab-4bd6-97bf-c24d952602d2</td>\n",
       "      <td>9b6d35f9-5e15-4cd0-a8d7-b1f3340e02c4</td>\n",
       "      <td>interested</td>\n",
       "      <td>2020-08-23 12:25:58</td>\n",
       "      <td>photo</td>\n",
       "      <td>studying</td>\n",
       "      <td>interested</td>\n",
       "      <td>positive</td>\n",
       "      <td>30</td>\n",
       "    </tr>\n",
       "  </tbody>\n",
       "</table>\n",
       "</div>"
      ],
      "text/plain": [
       "                             Content ID                               User ID  \\\n",
       "0  97522e57-d9ab-4bd6-97bf-c24d952602d2  5d454588-283d-459d-915d-c48a2cb4c27f   \n",
       "1  97522e57-d9ab-4bd6-97bf-c24d952602d2  92b87fa5-f271-43e0-af66-84fac21052e6   \n",
       "2  97522e57-d9ab-4bd6-97bf-c24d952602d2  163daa38-8b77-48c9-9af6-37a6c1447ac2   \n",
       "3  97522e57-d9ab-4bd6-97bf-c24d952602d2  34e8add9-0206-47fd-a501-037b994650a2   \n",
       "4  97522e57-d9ab-4bd6-97bf-c24d952602d2  9b6d35f9-5e15-4cd0-a8d7-b1f3340e02c4   \n",
       "\n",
       "  Reaction Type             Datetime Content Type  Category        Type  \\\n",
       "0       disgust  2020-11-07 09:43:50        photo  studying     disgust   \n",
       "1       dislike  2021-06-17 12:22:51        photo  studying     dislike   \n",
       "2        scared  2021-04-18 05:13:58        photo  studying      scared   \n",
       "3       disgust  2021-01-06 19:13:01        photo  studying     disgust   \n",
       "4    interested  2020-08-23 12:25:58        photo  studying  interested   \n",
       "\n",
       "  Sentiment  Score  \n",
       "0  negative      0  \n",
       "1  negative     10  \n",
       "2  negative     15  \n",
       "3  negative      0  \n",
       "4  positive     30  "
      ]
     },
     "execution_count": 26,
     "metadata": {},
     "output_type": "execute_result"
    }
   ],
   "source": [
    "# Combining tables\n",
    "df = df_reactions.merge(right = df_content, how = \"left\", on = \"Content ID\").drop(columns=\"User ID_y\")\n",
    "df.rename(columns={\"User ID_x\":\"User ID\", \"Type_x\":\"Reaction Type\", \"Type_y\":\"Content Type\"}, inplace=True)\n",
    "\n",
    "df = df.merge(right = df_reactiontypes, how = \"left\", left_on = \"Reaction Type\", right_on = \"Type\")\n",
    "df.head()"
   ]
  },
  {
   "cell_type": "code",
   "execution_count": 19,
   "metadata": {},
   "outputs": [
    {
     "data": {
      "text/plain": [
       "Content ID       0\n",
       "User ID          0\n",
       "Reaction Type    0\n",
       "Datetime         0\n",
       "Content Type     0\n",
       "Category         0\n",
       "Type             0\n",
       "Sentiment        0\n",
       "Score            0\n",
       "dtype: int64"
      ]
     },
     "execution_count": 19,
     "metadata": {},
     "output_type": "execute_result"
    }
   ],
   "source": [
    "# Checking if there is still empty values in the result dataframe\n",
    "df.isnull().sum()"
   ]
  },
  {
   "cell_type": "code",
   "execution_count": 20,
   "metadata": {},
   "outputs": [],
   "source": [
    "# Export dataframe\n",
    "df.to_csv(\"result.csv\")"
   ]
  },
  {
   "cell_type": "markdown",
   "metadata": {},
   "source": [
    "# Data Analytics\n",
    "## Top posted categories"
   ]
  },
  {
   "cell_type": "code",
   "execution_count": 47,
   "metadata": {},
   "outputs": [
    {
     "data": {
      "text/plain": [
       "animals            1738\n",
       "science            1646\n",
       "healthy eating     1572\n",
       "technology         1557\n",
       "food               1556\n",
       "culture            1538\n",
       "cooking            1525\n",
       "travel             1510\n",
       "soccer             1339\n",
       "education          1311\n",
       "fitness            1284\n",
       "studying           1251\n",
       "dogs               1227\n",
       "tennis             1218\n",
       "veganism           1146\n",
       "public speaking    1116\n",
       "Name: Category, dtype: int64"
      ]
     },
     "execution_count": 47,
     "metadata": {},
     "output_type": "execute_result"
    }
   ],
   "source": [
    "df['Category'].value_counts()"
   ]
  },
  {
   "cell_type": "markdown",
   "metadata": {},
   "source": [
    "## Top posted time"
   ]
  },
  {
   "cell_type": "code",
   "execution_count": 66,
   "metadata": {},
   "outputs": [
    {
     "data": {
      "text/plain": [
       "5     1954\n",
       "1     1949\n",
       "8     1945\n",
       "12    1941\n",
       "10    1889\n",
       "7     1884\n",
       "11    1866\n",
       "9     1862\n",
       "3     1857\n",
       "6     1836\n",
       "4     1801\n",
       "2     1750\n",
       "Name: Month, dtype: int64"
      ]
     },
     "execution_count": 66,
     "metadata": {},
     "output_type": "execute_result"
    }
   ],
   "source": [
    "df['Datetime'] = pd.to_datetime(df['Datetime'])\n",
    "df['Month'] = df['Datetime'].dt.month\n",
    "df['Month'].value_counts().sort_values(ascending=False)"
   ]
  },
  {
   "cell_type": "code",
   "execution_count": 76,
   "metadata": {},
   "outputs": [
    {
     "data": {
      "text/plain": [
       "2021-05    1954\n",
       "2021-01    1949\n",
       "2020-08    1945\n",
       "2020-12    1941\n",
       "2020-10    1889\n",
       "2020-07    1884\n",
       "2020-11    1866\n",
       "2020-09    1862\n",
       "2021-03    1857\n",
       "2021-04    1801\n",
       "2021-02    1750\n",
       "2021-06    1028\n",
       "2020-06     808\n",
       "Freq: M, Name: Year-Month, dtype: int64"
      ]
     },
     "execution_count": 76,
     "metadata": {},
     "output_type": "execute_result"
    }
   ],
   "source": [
    "df['Year-Month'].value_counts().sort_values(ascending=False)"
   ]
  },
  {
   "cell_type": "code",
   "execution_count": 75,
   "metadata": {},
   "outputs": [
    {
     "data": {
      "text/plain": [
       "<AxesSubplot:xlabel='Year-Month'>"
      ]
     },
     "execution_count": 75,
     "metadata": {},
     "output_type": "execute_result"
    },
    {
     "data": {
      "image/png": "[encoded data removed]",
      "text/plain": [
       "<Figure size 432x288 with 1 Axes>"
      ]
     },
     "metadata": {
      "needs_background": "light"
     },
     "output_type": "display_data"
    }
   ],
   "source": [
    "df['Year-Month'] = df['Datetime'].dt.to_period('M')\n",
    "df.groupby(by='Year-Month')['Year-Month'].count().plot()"
   ]
  },
  {
   "cell_type": "code",
   "execution_count": 81,
   "metadata": {},
   "outputs": [
    {
     "data": {
      "image/png": "[encoded data removed]",
      "text/plain": [
       "<Figure size 720x360 with 1 Axes>"
      ]
     },
     "metadata": {
      "needs_background": "light"
     },
     "output_type": "display_data"
    }
   ],
   "source": [
    "fig, ax = plt.subplots(figsize = (10,5))\n",
    "\n",
    "ax.hist(df['Month'])\n",
    "\n",
    "ax.set_xlabel(\"Months\")\n",
    "ax.set_ylabel(\"Amount of Posts\")\n",
    "ax.set_title(\"Post Frequency by Month\")\n",
    "\n",
    "plt.show()"
   ]
  },
  {
   "cell_type": "markdown",
   "metadata": {},
   "source": [
    "## Top popular categories"
   ]
  },
  {
   "cell_type": "code",
   "execution_count": 45,
   "metadata": {},
   "outputs": [
    {
     "data": {
      "text/plain": [
       "16"
      ]
     },
     "execution_count": 45,
     "metadata": {},
     "output_type": "execute_result"
    }
   ],
   "source": [
    "# total number of categories\n",
    "len(df['Category'].value_counts())"
   ]
  },
  {
   "cell_type": "code",
   "execution_count": 161,
   "metadata": {},
   "outputs": [
    {
     "data": {
      "text/plain": [
       "animals            1738\n",
       "science            1646\n",
       "healthy eating     1572\n",
       "technology         1557\n",
       "food               1556\n",
       "culture            1538\n",
       "cooking            1525\n",
       "travel             1510\n",
       "soccer             1339\n",
       "education          1311\n",
       "fitness            1284\n",
       "studying           1251\n",
       "dogs               1227\n",
       "tennis             1218\n",
       "veganism           1146\n",
       "public speaking    1116\n",
       "Name: Category, dtype: int64"
      ]
     },
     "execution_count": 161,
     "metadata": {},
     "output_type": "execute_result"
    }
   ],
   "source": [
    "df['Category'].value_counts()"
   ]
  },
  {
   "cell_type": "code",
   "execution_count": 98,
   "metadata": {},
   "outputs": [
    {
     "data": {
      "text/plain": [
       "Category\n",
       "animals            68624\n",
       "science            65405\n",
       "healthy eating     63138\n",
       "technology         63035\n",
       "food               61598\n",
       "culture            60663\n",
       "travel             59358\n",
       "cooking            59174\n",
       "soccer             53216\n",
       "education          52759\n",
       "fitness            50835\n",
       "studying           49442\n",
       "dogs               48398\n",
       "tennis             46185\n",
       "veganism           45901\n",
       "public speaking    45751\n",
       "Name: Score, dtype: int64"
      ]
     },
     "execution_count": 98,
     "metadata": {},
     "output_type": "execute_result"
    }
   ],
   "source": [
    "category_ranking = df.groupby(by = \"Category\")['Score'].sum().sort_values(ascending=False)\n",
    "category_ranking"
   ]
  },
  {
   "cell_type": "code",
   "execution_count": 145,
   "metadata": {},
   "outputs": [
    {
     "data": {
      "text/plain": [
       "Text(0.5, 1.0, 'Top 5 Most Popular Categories')"
      ]
     },
     "execution_count": 145,
     "metadata": {},
     "output_type": "execute_result"
    },
    {
     "data": {
      "image/png": "[encoded data removed]",
      "text/plain": [
       "<Figure size 720x360 with 1 Axes>"
      ]
     },
     "metadata": {
      "needs_background": "light"
     },
     "output_type": "display_data"
    }
   ],
   "source": [
    "plt.figure(figsize = (10,5))\n",
    "\n",
    "bars = plt.bar(category_ranking.index.str[:3],height=category_ranking)\n",
    "bars[0].set_color(\"tab:blue\")\n",
    "bars[1].set_color(\"tab:blue\")\n",
    "bars[2].set_color(\"tab:blue\")\n",
    "bars[3].set_color(\"tab:blue\")\n",
    "bars[4].set_color(\"tab:blue\")\n",
    "\n",
    "plt.ylabel(\"Aggregate Score\")\n",
    "plt.title(\"Top 5 Most Popular Categories\")\n",
    "\n",
    "#bars.set_ylabel(\"Aggregate Score\")\n",
    "# plt.set_title(\"Top 5 Most Popular Categories\")\n",
    "\n",
    "# plt.show()"
   ]
  },
  {
   "cell_type": "code",
   "execution_count": 159,
   "metadata": {},
   "outputs": [
    {
     "data": {
      "text/plain": [
       "Text(0.5, 1.0, 'Science Category Top 5 Reactions')"
      ]
     },
     "execution_count": 159,
     "metadata": {},
     "output_type": "execute_result"
    },
    {
     "data": {
      "image/png": "[encoded data removed]",
      "text/plain": [
       "<Figure size 720x360 with 1 Axes>"
      ]
     },
     "metadata": {},
     "output_type": "display_data"
    }
   ],
   "source": [
    "plt.figure(figsize = (10,5))\n",
    "\n",
    "plt.pie(df[(df['Category'] == 'science') | (df['Category'] == 'technology')]['Type'].value_counts()[:5])\n",
    "\n",
    "plt.legend(df[(df['Category'] == 'science') | (df['Category'] == 'technology')]['Type'].value_counts().index[:5])\n",
    "plt.title(\"Science & Technology Category Top 5 Reactions\")"
   ]
  },
  {
   "cell_type": "code",
   "execution_count": 160,
   "metadata": {},
   "outputs": [
    {
     "data": {
      "text/plain": [
       "Text(0.5, 1.0, 'Food & Healthy Eating Category Top 5 Reactions')"
      ]
     },
     "execution_count": 160,
     "metadata": {},
     "output_type": "execute_result"
    },
    {
     "data": {
      "image/png": "[encoded data removed]",
      "text/plain": [
       "<Figure size 720x360 with 1 Axes>"
      ]
     },
     "metadata": {},
     "output_type": "display_data"
    }
   ],
   "source": [
    "plt.figure(figsize = (10,5))\n",
    "\n",
    "plt.pie(df[(df['Category'] == 'healthy eating') | (df['Category'] == 'food')]['Type'].value_counts()[:5])\n",
    "\n",
    "plt.legend(df[(df['Category'] == 'healthy eating') | (df['Category'] == 'food')]['Type'].value_counts().index[:5])\n",
    "plt.title(\"Food & Healthy Eating Category Top 5 Reactions\")"
   ]
  },
  {
   "cell_type": "code",
   "execution_count": null,
   "metadata": {},
   "outputs": [],
   "source": []
  }
 ],
 "metadata": {
  "kernelspec": {
   "display_name": "Python 3.9.7 ('base')",
   "language": "python",
   "name": "python3"
  },
  "language_info": {
   "codemirror_mode": {
    "name": "ipython",
    "version": 3
   },
   "file_extension": ".py",
   "mimetype": "text/x-python",
   "name": "python",
   "nbconvert_exporter": "python",
   "pygments_lexer": "ipython3",
   "version": "3.9.7"
  },
  "orig_nbformat": 4,
  "vscode": {
   "interpreter": {
    "hash": "6fadacfa025e07eb4c77286e29c2bec792c48bf5a1043e26a91e9ebde8011997"
   }
  }
 },
 "nbformat": 4,
 "nbformat_minor": 2
}
